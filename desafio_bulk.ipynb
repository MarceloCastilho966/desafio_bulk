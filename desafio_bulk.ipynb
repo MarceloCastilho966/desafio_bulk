{
 "cells": [
  {
   "cell_type": "markdown",
   "metadata": {},
   "source": [
    "# Comandos no Terminal:\n",
    "\n",
    "## Baixando arquivos:\n",
    "\n",
    "#### wget https://github.com/paaarx/semantix/raw/master/NASA_access_log_Jul95.gz\n",
    "#### wget https://github.com/paaarx/semantix/raw/master/NASA_access_log_Aug95.gz\n",
    "\n",
    "## Enviando arquivos para HDFS no Docker:\n",
    "\n",
    "#### docker cp NASA_access_log_Aug95.gz namenode:/home\n",
    "#### docker cp NASA_access_log_Jul95.gz namenode:/home\n",
    "\n",
    "## Criando Pasta para receber arquivos:\n",
    "\n",
    "#### hdfs dfs -mkdir /user/marcelo/data/desafio_bulk\n",
    "\n",
    "## Enviando arquivos para pasta:\n",
    "\n",
    "#### hdfs dfs -copyFromLocal /home/NASA_access_log_Jul95.gz /user/marcelo/data/desafio_bulk\n",
    "#### hdfs dfs -copyFromLocal /home/NASA_access_log_Aug95.gz /user/marcelo/data/desafio_bulk\n"
   ]
  },
  {
   "cell_type": "code",
   "execution_count": 1,
   "metadata": {},
   "outputs": [
    {
     "name": "stdout",
     "output_type": "stream",
     "text": [
      "Found 2 items\r\n",
      "-rw-r--r--   3 root supergroup   16633316 2022-08-31 19:25 /user/marcelo/data/desafio_bulk/NASA_access_log_Aug95.gz\r\n",
      "-rw-r--r--   3 root supergroup   20676672 2022-08-31 19:25 /user/marcelo/data/desafio_bulk/NASA_access_log_Jul95.gz\r\n"
     ]
    }
   ],
   "source": [
    "# Verificando arquivos no HDFS:\n",
    "!hdfs dfs -ls /user/marcelo/data/desafio_bulk"
   ]
  },
  {
   "cell_type": "code",
   "execution_count": 2,
   "metadata": {},
   "outputs": [],
   "source": [
    "from pyspark.sql.functions import *\n",
    "from pyspark.sql.types import *\n",
    "from pyspark.sql import *"
   ]
  },
  {
   "cell_type": "code",
   "execution_count": 3,
   "metadata": {},
   "outputs": [],
   "source": [
    "spark = SparkSession.builder \\\n",
    ".appName('nasa') \\\n",
    ".master('local[*]') \\\n",
    ".getOrCreate()"
   ]
  },
  {
   "cell_type": "markdown",
   "metadata": {},
   "source": [
    "---------------"
   ]
  },
  {
   "cell_type": "code",
   "execution_count": 4,
   "metadata": {},
   "outputs": [],
   "source": [
    "# Criando DataFrame com os arquivos:\n",
    "\n",
    "df = spark.read.text(\"/user/marcelo/data/desafio_bulk/*.gz\")"
   ]
  },
  {
   "cell_type": "code",
   "execution_count": 5,
   "metadata": {
    "scrolled": true
   },
   "outputs": [
    {
     "name": "stdout",
     "output_type": "stream",
     "text": [
      "+-------------------------------------------------------------------------------------------------+\n",
      "|value                                                                                            |\n",
      "+-------------------------------------------------------------------------------------------------+\n",
      "|199.72.81.55 - - [01/Jul/1995:00:00:01 -0400] \"GET /history/apollo/ HTTP/1.0\" 200 6245           |\n",
      "|unicomp6.unicomp.net - - [01/Jul/1995:00:00:06 -0400] \"GET /shuttle/countdown/ HTTP/1.0\" 200 3985|\n",
      "+-------------------------------------------------------------------------------------------------+\n",
      "only showing top 2 rows\n",
      "\n"
     ]
    }
   ],
   "source": [
    "# Como os Dados chegaram:\n",
    "\n",
    "df.show(2, truncate=False)"
   ]
  },
  {
   "cell_type": "markdown",
   "metadata": {},
   "source": [
    "-------------------------------"
   ]
  },
  {
   "cell_type": "code",
   "execution_count": 6,
   "metadata": {},
   "outputs": [],
   "source": [
    "# Tratando os Dados com Regexp_extract, organizando o DataFrame:\n",
    "\n",
    "df_1 = df.select(regexp_extract('value',r'^([^\\s]+\\s)',1).alias('hosts'),\n",
    "                            regexp_extract('value', r'((\\d\\d/\\w{3}/\\d{4}:\\d{2}:\\d{2}:\\d{2}))', 1).alias('data'),\n",
    "                            regexp_extract('value', r'^.*\"\\w+\\s+([^\\s+]+)\\s+HTTP.*', 1).alias('URL'),\n",
    "                            regexp_extract('value', r'^.*\\s+([^\\s]+)\\s', 1).cast('integer').alias('codigo_HTTP'),\n",
    "                            regexp_extract('value', r'^.*\\s+([^\\s]+)', 1).cast('integer').alias('byte'))"
   ]
  },
  {
   "cell_type": "markdown",
   "metadata": {},
   "source": [
    "----------------"
   ]
  },
  {
   "cell_type": "code",
   "execution_count": 7,
   "metadata": {},
   "outputs": [
    {
     "name": "stdout",
     "output_type": "stream",
     "text": [
      "+---------------------+--------------------+-----------------------------------------------+-----------+----+\n",
      "|hosts                |data                |URL                                            |codigo_HTTP|byte|\n",
      "+---------------------+--------------------+-----------------------------------------------+-----------+----+\n",
      "|199.72.81.55         |01/Jul/1995:00:00:01|/history/apollo/                               |200        |6245|\n",
      "|unicomp6.unicomp.net |01/Jul/1995:00:00:06|/shuttle/countdown/                            |200        |3985|\n",
      "|199.120.110.21       |01/Jul/1995:00:00:09|/shuttle/missions/sts-73/mission-sts-73.html   |200        |4085|\n",
      "|burger.letters.com   |01/Jul/1995:00:00:11|/shuttle/countdown/liftoff.html                |304        |0   |\n",
      "|199.120.110.21       |01/Jul/1995:00:00:11|/shuttle/missions/sts-73/sts-73-patch-small.gif|200        |4179|\n",
      "+---------------------+--------------------+-----------------------------------------------+-----------+----+\n",
      "only showing top 5 rows\n",
      "\n"
     ]
    }
   ],
   "source": [
    "# Como Ficou o DataFrame:\n",
    "\n",
    "df_1.show(5, truncate=False)"
   ]
  },
  {
   "cell_type": "markdown",
   "metadata": {},
   "source": [
    "-------------------------"
   ]
  },
  {
   "cell_type": "markdown",
   "metadata": {},
   "source": [
    "# Perguntas do Desafio:\n",
    "\n",
    "### 1. Número de hosts únicos ?\n",
    "### 2. O total de erros 404 ?\n",
    "### 3. Os 5 URLs que mais causaram erro 404 ?\n",
    "### 4. Quantidade de erros 404 por dia ?\n",
    "### 5. O total de bytes retornados ?"
   ]
  },
  {
   "cell_type": "markdown",
   "metadata": {},
   "source": [
    "-------------"
   ]
  },
  {
   "cell_type": "code",
   "execution_count": 8,
   "metadata": {},
   "outputs": [
    {
     "data": {
      "text/plain": [
       "137979"
      ]
     },
     "execution_count": 8,
     "metadata": {},
     "output_type": "execute_result"
    }
   ],
   "source": [
    "# Resposta 1:\n",
    "\n",
    "df_1.select(\"hosts\").distinct().count()"
   ]
  },
  {
   "cell_type": "markdown",
   "metadata": {},
   "source": [
    "----------------"
   ]
  },
  {
   "cell_type": "code",
   "execution_count": 9,
   "metadata": {},
   "outputs": [
    {
     "data": {
      "text/plain": [
       "20901"
      ]
     },
     "execution_count": 9,
     "metadata": {},
     "output_type": "execute_result"
    }
   ],
   "source": [
    "# Resposta 2:\n",
    "\n",
    "df_1.where(col(\"codigo_HTTP\") == \"404\").count()"
   ]
  },
  {
   "cell_type": "markdown",
   "metadata": {},
   "source": [
    "-----------------"
   ]
  },
  {
   "cell_type": "code",
   "execution_count": 10,
   "metadata": {},
   "outputs": [
    {
     "name": "stdout",
     "output_type": "stream",
     "text": [
      "+--------------------------------------------+-----+\n",
      "|URL                                         |count|\n",
      "+--------------------------------------------+-----+\n",
      "|/pub/winvn/readme.txt                       |2004 |\n",
      "|/pub/winvn/release.txt                      |1732 |\n",
      "|/shuttle/missions/STS-69/mission-STS-69.html|682  |\n",
      "|/shuttle/missions/sts-68/ksc-upclose.gif    |426  |\n",
      "|/history/apollo/a-001/a-001-patch-small.gif |384  |\n",
      "+--------------------------------------------+-----+\n",
      "only showing top 5 rows\n",
      "\n"
     ]
    }
   ],
   "source": [
    "# Resposta 3:\n",
    "\n",
    "df_1.filter('codigo_HTTP = \"404\"').groupby('URL').count().sort(col(\"count\").desc()).show(5, truncate=False)"
   ]
  },
  {
   "cell_type": "markdown",
   "metadata": {},
   "source": [
    "------------"
   ]
  },
  {
   "cell_type": "code",
   "execution_count": 11,
   "metadata": {},
   "outputs": [
    {
     "name": "stdout",
     "output_type": "stream",
     "text": [
      "+-----------+-----+\n",
      "|       data|count|\n",
      "+-----------+-----+\n",
      "|06/Jul/1995|  640|\n",
      "|19/Jul/1995|  639|\n",
      "|30/Aug/1995|  571|\n",
      "|07/Jul/1995|  570|\n",
      "|07/Aug/1995|  537|\n",
      "+-----------+-----+\n",
      "only showing top 5 rows\n",
      "\n"
     ]
    }
   ],
   "source": [
    "# Resposta 4:\n",
    "\n",
    "df_1.filter('codigo_HTTP = \"404\"').groupby(df_1.data.substr(0,11).alias(\"data\")).count().sort(desc(\"count\")).show(5)"
   ]
  },
  {
   "cell_type": "markdown",
   "metadata": {},
   "source": [
    "--------------"
   ]
  },
  {
   "cell_type": "code",
   "execution_count": 12,
   "metadata": {},
   "outputs": [
    {
     "name": "stdout",
     "output_type": "stream",
     "text": [
      "+-----------+\n",
      "|  sum(byte)|\n",
      "+-----------+\n",
      "|65524314915|\n",
      "+-----------+\n",
      "\n"
     ]
    }
   ],
   "source": [
    "# Resposta 5:\n",
    "\n",
    "df_1.select('byte').groupby().sum().show()"
   ]
  }
 ],
 "metadata": {
  "kernelspec": {
   "display_name": "PySpark",
   "language": "python",
   "name": "pyspark"
  },
  "language_info": {
   "codemirror_mode": {
    "name": "ipython",
    "version": 3
   },
   "file_extension": ".py",
   "mimetype": "text/x-python",
   "name": "python",
   "nbconvert_exporter": "python",
   "pygments_lexer": "ipython3",
   "version": "3.6.10"
  }
 },
 "nbformat": 4,
 "nbformat_minor": 2
}
